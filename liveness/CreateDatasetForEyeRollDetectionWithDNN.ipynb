{
 "cells": [
  {
   "cell_type": "markdown",
   "id": "89b44974",
   "metadata": {},
   "source": [
    "# Eye Roll detector: data generation\n",
    "\n",
    "I'm not sharing the dataset itself, but the code that generates it"
   ]
  },
  {
   "cell_type": "markdown",
   "id": "a3b0bc58",
   "metadata": {},
   "source": [
    "Import all necessary libraries"
   ]
  },
  {
   "cell_type": "code",
   "execution_count": 1,
   "id": "41cbe882",
   "metadata": {},
   "outputs": [],
   "source": [
    "import cv2\n",
    "import matplotlib.pyplot as plt\n",
    "import numpy as np\n",
    "import os\n",
    "import face_recognition as fr"
   ]
  },
  {
   "cell_type": "code",
   "execution_count": 2,
   "id": "b93fa301",
   "metadata": {},
   "outputs": [],
   "source": [
    "video_file = 'eye_roll_test_close.avi'\n",
    "os.environ['KMP_DUPLICATE_LIB_OK']='True'"
   ]
  },
  {
   "cell_type": "markdown",
   "id": "1b2f2bc2",
   "metadata": {},
   "source": [
    "## Capturing selfie video\n",
    "\n",
    "Instructions:\n",
    "\n",
    "1. Capture normal look for a 1/3 of the time you are plannig for this video set\n",
    "2. Roll eyes for 1/3 of the time\n",
    "3. Capture normal look for 1/6 of the time\n",
    "4. Roll eyes for 1/6 of the time\n",
    "\n",
    "By this you'll be able to separate the dataset into training and alidation sets with positive and negative examples"
   ]
  },
  {
   "cell_type": "code",
   "execution_count": 5,
   "id": "4567f957",
   "metadata": {},
   "outputs": [],
   "source": [
    "cap = cv2.VideoCapture(video_file)\n",
    "count = 0\n",
    "frames=[]\n",
    "if (cap.isOpened()== False): \n",
    "    print(\"Error opening video stream or file\")\n",
    "frames=[] \n",
    "# Read until video is completed\n",
    "while(cap.isOpened()):\n",
    "    # Capture frame-by-frame\n",
    "    ret, frame = cap.read()  \n",
    "    frames.append(frame)    \n",
    "    if ret == True:  \n",
    "        # Press Q on keyboard to  exit\n",
    "        if cv2.waitKey(25) & 0xFF == ord('q'):\n",
    "            break\n",
    " \n",
    "        # Break the loop\n",
    "    else: \n",
    "        break\n",
    "        \n",
    "# When everything done, release the video capture object\n",
    "cap.release()\n",
    " \n",
    "# Closes all the frames\n",
    "cv2.destroyAllWindows()"
   ]
  },
  {
   "cell_type": "code",
   "execution_count": 6,
   "id": "b31c33a2",
   "metadata": {},
   "outputs": [
    {
     "data": {
      "text/plain": [
       "1262"
      ]
     },
     "execution_count": 6,
     "metadata": {},
     "output_type": "execute_result"
    }
   ],
   "source": [
    "len(frames)"
   ]
  },
  {
   "cell_type": "markdown",
   "id": "80b0c6fa",
   "metadata": {},
   "source": [
    "## Function get_eyes:\n",
    "\n",
    "uses landmarks detected by face_recognition to find the coordinates of the eyes and by this to get the images of eyes only, each eye (left and right) separately"
   ]
  },
  {
   "cell_type": "code",
   "execution_count": 17,
   "id": "7c639dac",
   "metadata": {},
   "outputs": [],
   "source": [
    "def get_eyes(image, landmarks):\n",
    "    if image is None or landmarks is None:\n",
    "        return (None,None)\n",
    "    eyes=image.copy() \n",
    "    x1,y1 = landmarks[0]['left_eye'][0][0], landmarks[0]['left_eye'][1][1]\n",
    "    x2,y2 = landmarks[0]['left_eye'][3][0], landmarks[0]['left_eye'][5][1]        \n",
    "    shape1 = [(x1-5,y1-5), (x2+5,y2+5)]\n",
    "    \n",
    "    x11,y11 = landmarks[0]['right_eye'][0][0], landmarks[0]['right_eye'][1][1]\n",
    "    x21,y21 = landmarks[0]['right_eye'][3][0], landmarks[0]['right_eye'][5][1]    \n",
    "    shape2 = [(x11-5,y11-5), (x21+5,y21+5)]\n",
    "   \n",
    "    left_eye = eyes[shape1[0][1]:shape1[1][1],shape1[0][0]:shape1[1][0],:]\n",
    "    right_eye = eyes[shape2[0][1]:shape2[1][1],shape2[0][0]:shape2[1][0],:]\n",
    "    \n",
    "    return (left_eye,right_eye)"
   ]
  },
  {
   "cell_type": "code",
   "execution_count": 23,
   "id": "11acb0db",
   "metadata": {},
   "outputs": [],
   "source": [
    "a1,a2 = get_eyes(frames[400])"
   ]
  },
  {
   "cell_type": "code",
   "execution_count": 24,
   "id": "8f452f46",
   "metadata": {},
   "outputs": [
    {
     "data": {
      "text/plain": [
       "<matplotlib.image.AxesImage at 0x1b1f63e1808>"
      ]
     },
     "execution_count": 24,
     "metadata": {},
     "output_type": "execute_result"
    },
    {
     "data": {
      "image/png": "[encoded data removed]",
      "text/plain": [
       "<Figure size 640x480 with 1 Axes>"
      ]
     },
     "metadata": {},
     "output_type": "display_data"
    }
   ],
   "source": [
    "plt.imshow(a1)"
   ]
  },
  {
   "cell_type": "markdown",
   "id": "8471d176",
   "metadata": {},
   "source": [
    "## Build dataset\n",
    "\n",
    "Go through frames\n",
    "For each frame:\n",
    "1. Localize eyes\n",
    "2. Extract images of eyes only\n",
    "3. Write down images into appropiate folder: right/left train/validation/test roll/no_roll"
   ]
  },
  {
   "cell_type": "code",
   "execution_count": 28,
   "id": "609592b4",
   "metadata": {},
   "outputs": [],
   "source": [
    "left_train_roll =\"data/Elina_eyes/left/train/roll\"\n",
    "left_train_no_roll =\"data/Elina_eyes/left/train/no_roll\"\n",
    "right_train_roll =\"data/Elina_eyes/right/train/roll\"\n",
    "right_train_no_roll =\"data/Elina_eyes/right/train/no_roll\"\n",
    "\n",
    "left_validation_roll =\"data/Elina_eyes/left/validation/roll\"\n",
    "left_validation_no_roll =\"data/Elina_eyes/left/validation/no_roll\"\n",
    "right_validation_roll =\"data/Elina_eyes/right/validation/roll\"\n",
    "right_validation_no_roll =\"data/Elina_eyes/right/validation/no_roll\"\n",
    "\n",
    "path = 'data/Elina_eyes'\n",
    "for i in range(1251):\n",
    "    landmarks_collection = fr.face_landmarks(resultImg)\n",
    "    if len(landmarks_collection) !=1:\n",
    "        continue\n",
    "    left,right = get_eyes(frames[i],landmarks_collection[0])\n",
    "    path_left =\"\"\n",
    "    path_right=\"\"\n",
    "    #traning - normal eyes gaze\n",
    "    if i<=320:\n",
    "        path_left =left_train_no_roll\n",
    "        path_right =  right_train_no_roll\n",
    "    #training - eye roll   \n",
    "    if i>=335 and i<=775:     \n",
    "        path_left =left_train_roll\n",
    "        path_right =  right_train_roll\n",
    "    #validation - normal eyes gaze    \n",
    "    if i>=785 and i<=975:     \n",
    "        path_left =left_validation_no_roll\n",
    "        path_right =  right_validation_no_roll\n",
    "    #validation - eye roll    \n",
    "    if i>=975:     \n",
    "        path_left =left_validation_roll\n",
    "        path_right =  right_validation_roll    \n",
    "    if(path_left!=\"\"):       \n",
    "        cv2.imwrite(path_left+\"/left_\"+str(i)+\".png\",left)\n",
    "       \n",
    "    if(path_right!=\"\"):\n",
    "        cv2.imwrite(path_right+\"/right_\"+str(i)+\".png\",right)\n",
    "     "
   ]
  },
  {
   "cell_type": "markdown",
   "id": "bdf57505",
   "metadata": {},
   "source": [
    "### Build test dataset from"
   ]
  },
  {
   "cell_type": "code",
   "execution_count": 29,
   "id": "4d54a993",
   "metadata": {},
   "outputs": [],
   "source": [
    "left_test =\"data/Elina_eyes/left/test\"\n",
    "right_test =\"data/Elina_eyes/right/test\""
   ]
  },
  {
   "cell_type": "code",
   "execution_count": 31,
   "id": "4cd52054",
   "metadata": {},
   "outputs": [],
   "source": [
    "for i in range(321,325):\n",
    "    left,right = get_eyes(frames[i])\n",
    "    cv2.imwrite(left_test+\"/left_\"+str(i)+\".png\",left)\n",
    "    cv2.imwrite(right_test+\"/right_\"+str(i)+\".png\",right)\n",
    "    \n",
    "for i in range(776,785):\n",
    "    left,right = get_eyes(frames[i])\n",
    "    cv2.imwrite(left_test+\"/left_\"+str(i)+\".png\",left)\n",
    "    cv2.imwrite(right_test+\"/right_\"+str(i)+\".png\",right)    \n",
    "    "
   ]
  },
  {
   "cell_type": "code",
   "execution_count": 3,
   "id": "000cf9ed",
   "metadata": {},
   "outputs": [],
   "source": [
    "left_eye_model = 'data/Elina_eyes/left_eye.h5'\n",
    "right_eye_model = 'data/Elina_eyes/right_eye.h5'\n",
    "from tensorflow.keras.models import load_model"
   ]
  },
  {
   "cell_type": "code",
   "execution_count": 34,
   "id": "ee8aa97b",
   "metadata": {},
   "outputs": [
    {
     "name": "stdout",
     "output_type": "stream",
     "text": [
      "1/1 [==============================] - 0s 85ms/step\n",
      "1/1 [==============================] - 0s 20ms/step\n",
      "1/1 [==============================] - 0s 23ms/step\n",
      "1/1 [==============================] - 0s 24ms/step\n",
      "1/1 [==============================] - 0s 24ms/step\n",
      "1/1 [==============================] - 0s 29ms/step\n",
      "1/1 [==============================] - 0s 23ms/step\n",
      "1/1 [==============================] - 0s 22ms/step\n",
      "1/1 [==============================] - 0s 21ms/step\n",
      "1/1 [==============================] - 0s 22ms/step\n",
      "1/1 [==============================] - 0s 27ms/step\n",
      "1/1 [==============================] - 0s 30ms/step\n",
      "1/1 [==============================] - 0s 29ms/step\n",
      "1/1 [==============================] - 0s 26ms/step\n",
      "1/1 [==============================] - 0s 28ms/step\n",
      "1/1 [==============================] - 0s 26ms/step\n",
      "1/1 [==============================] - 0s 25ms/step\n",
      "1/1 [==============================] - 0s 30ms/step\n",
      "1/1 [==============================] - 0s 30ms/step\n",
      "1/1 [==============================] - 0s 27ms/step\n",
      "1/1 [==============================] - 0s 25ms/step\n"
     ]
    }
   ],
   "source": [
    "#imports\n",
    "import cv2\n",
    "from matplotlib import pyplot as plt\n",
    "import numpy as np\n",
    "import keras.utils as image\n",
    "\n",
    "#create video captioning object\n",
    "cap = cv2.VideoCapture(0)\n",
    "\n",
    "fourcc = cv2.VideoWriter_fourcc(*'XVID')\n",
    "out = cv2.VideoWriter('eye_roll_demo.avi', fourcc, 10.0, (640,  480))\n",
    "#out = cv2.VideoWriter(name,fourcc, 20,(320,180),False)\n",
    "\n",
    "frames = []\n",
    "#ocr = PaddleOCR(lang='en')\n",
    "\n",
    "\n",
    "#faceCascade = cv2.CascadeClassifier('haarcascade_frontalface_default.xml')\n",
    "flagD= False\n",
    "txts =\"\"\n",
    "lmodel = load_model('data/Elina_eyes/left_eye.h5')\n",
    "rmodel = load_model('data/Elina_eyes/right_eye.h5')\n",
    "\n",
    "while True:    \n",
    "    result, frame = cap.read()  \n",
    "    l,r=get_eyes(frame)\n",
    "    if(l is not None and r is not None):\n",
    "        #l_img = image.load_img(l, target_size=(20, 30))\n",
    "        l_img =  cv2.resize(l, (30,20), interpolation = cv2.INTER_AREA)        \n",
    "        x = np.expand_dims(l_img, axis=0)\n",
    "        images = np.vstack([x])       \n",
    "        l_classes = lmodel.predict(images, batch_size=10)       \n",
    "        \n",
    "        \n",
    "        #r_img =  cv2.resize(r, (30,20), interpolation = cv2.INTER_AREA)\n",
    "        ##x = image.img_to_array(r_img)\n",
    "        #x = np.expand_dims(r_img, axis=0)\n",
    "        #images = np.vstack([x])        \n",
    "        #r_classes = rmodel.predict(images, batch_size=10)        \n",
    "        \n",
    "       \n",
    "        if l_classes[0]>=0.5: #and r_classes[0]>=0.5:\n",
    "            txts+=\" Rolled eyes\"\n",
    "        \n",
    "        cv2.putText(frame, f'{txts}', (50, 50), \n",
    "                    cv2.FONT_HERSHEY_SIMPLEX, 0.0006*frame.shape[1],\n",
    "                    (255,255,255), int(0.002*frame.shape[1]), cv2.LINE_AA)    \n",
    "    frames.append(frame)   \n",
    "    out.write(frame)\n",
    "    cv2.imshow(\"frame\", frame) # qqqqThis will open an independent window       \n",
    "    if cv2.waitKey(1) & 0xFF==ord('q'): # quit when 'q' is pressed        \n",
    "        break\n",
    "\n",
    "# close the already opened camera\n",
    "cap.release()    \n",
    "out.release()\n",
    "# Destroy all the windows        \n",
    "cv2.destroyAllWindows() "
   ]
  },
  {
   "cell_type": "code",
   "execution_count": 52,
   "id": "6d0c4e6e",
   "metadata": {},
   "outputs": [
    {
     "name": "stdout",
     "output_type": "stream",
     "text": [
      "Model: \"sequential_34\"\n",
      "_________________________________________________________________\n",
      " Layer (type)                Output Shape              Param #   \n",
      "=================================================================\n",
      " conv2d_67 (Conv2D)          (None, 16, 26, 24)        1824      \n",
      "                                                                 \n",
      " max_pooling2d_56 (MaxPoolin  (None, 8, 13, 24)        0         \n",
      " g2D)                                                            \n",
      "                                                                 \n",
      " dropout_2 (Dropout)         (None, 8, 13, 24)         0         \n",
      "                                                                 \n",
      " conv2d_68 (Conv2D)          (None, 6, 11, 24)         5208      \n",
      "                                                                 \n",
      " max_pooling2d_57 (MaxPoolin  (None, 3, 5, 24)         0         \n",
      " g2D)                                                            \n",
      "                                                                 \n",
      " dropout_3 (Dropout)         (None, 3, 5, 24)          0         \n",
      "                                                                 \n",
      " flatten_28 (Flatten)        (None, 360)               0         \n",
      "                                                                 \n",
      " dense_58 (Dense)            (None, 100)               36100     \n",
      "                                                                 \n",
      " dense_59 (Dense)            (None, 1)                 101       \n",
      "                                                                 \n",
      "=================================================================\n",
      "Total params: 43,233\n",
      "Trainable params: 43,233\n",
      "Non-trainable params: 0\n",
      "_________________________________________________________________\n"
     ]
    }
   ],
   "source": [
    "lmodel.summary()"
   ]
  },
  {
   "cell_type": "code",
   "execution_count": 31,
   "id": "ce562d02",
   "metadata": {},
   "outputs": [],
   "source": [
    "# close the already opened camera\n",
    "cap.release()    \n",
    "out.release()\n",
    "# Destroy all the windows        \n",
    "cv2.destroyAllWindows() "
   ]
  },
  {
   "cell_type": "code",
   "execution_count": 8,
   "id": "3716d4cd",
   "metadata": {},
   "outputs": [],
   "source": [
    "i=image.load_img('data/Elina_eyes/left/test/left_321.png', target_size=(20, 30))"
   ]
  },
  {
   "cell_type": "code",
   "execution_count": 71,
   "id": "f29fb52d",
   "metadata": {},
   "outputs": [
    {
     "data": {
      "image/png": "[encoded data removed]",
      "text/plain": [
       "<PIL.Image.Image image mode=RGB size=30x20>"
      ]
     },
     "execution_count": 71,
     "metadata": {},
     "output_type": "execute_result"
    }
   ],
   "source": [
    "i"
   ]
  },
  {
   "cell_type": "code",
   "execution_count": 9,
   "id": "eb1ba8a6",
   "metadata": {},
   "outputs": [],
   "source": [
    "ii=image.img_to_array(i)"
   ]
  },
  {
   "cell_type": "code",
   "execution_count": 13,
   "id": "6260181a",
   "metadata": {},
   "outputs": [],
   "source": [
    "iii=np.vstack([ii])"
   ]
  },
  {
   "cell_type": "code",
   "execution_count": 14,
   "id": "4be54be4",
   "metadata": {},
   "outputs": [
    {
     "data": {
      "text/plain": [
       "(20, 30, 3)"
      ]
     },
     "execution_count": 14,
     "metadata": {},
     "output_type": "execute_result"
    }
   ],
   "source": [
    "iii.shape"
   ]
  },
  {
   "cell_type": "code",
   "execution_count": null,
   "id": "e5320c27",
   "metadata": {},
   "outputs": [],
   "source": []
  }
 ],
 "metadata": {
  "kernelspec": {
   "display_name": "Python [conda env:.conda-nlp_cv] *",
   "language": "python",
   "name": "conda-env-.conda-nlp_cv-py"
  },
  "language_info": {
   "codemirror_mode": {
    "name": "ipython",
    "version": 3
   },
   "file_extension": ".py",
   "mimetype": "text/x-python",
   "name": "python",
   "nbconvert_exporter": "python",
   "pygments_lexer": "ipython3",
   "version": "3.7.11"
  }
 },
 "nbformat": 4,
 "nbformat_minor": 5
}
